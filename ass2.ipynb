{
 "cells": [
  {
   "cell_type": "code",
   "execution_count": 2,
   "metadata": {
    "executionInfo": {
     "elapsed": 453,
     "status": "ok",
     "timestamp": 1665642082023,
     "user": {
      "displayName": "Mugdha Rane",
      "userId": "14804633121697625023"
     },
     "user_tz": -330
    },
    "id": "UGJR1uxPiTrr"
   },
   "outputs": [],
   "source": [
    "import tensorflow as tf\n",
    "from keras.models import Sequential\n",
    "from keras.datasets import mnist\n",
    "import matplotlib.pyplot as plt\n",
    "import numpy as np\n",
    "import random"
   ]
  },
  {
   "cell_type": "code",
   "execution_count": 3,
   "metadata": {
    "colab": {
     "base_uri": "https://localhost:8080/"
    },
    "executionInfo": {
     "elapsed": 638,
     "status": "ok",
     "timestamp": 1665642105996,
     "user": {
      "displayName": "Mugdha Rane",
      "userId": "14804633121697625023"
     },
     "user_tz": -330
    },
    "id": "VkE3fziv08a9",
    "outputId": "e022f1d6-106c-4eb9-a831-cf054abdb9f1"
   },
   "outputs": [
    {
     "name": "stdout",
     "output_type": "stream",
     "text": [
      "Downloading data from https://storage.googleapis.com/tensorflow/tf-keras-datasets/mnist.npz\n",
      "11490434/11490434 [==============================] - 0s 0us/step\n"
     ]
    }
   ],
   "source": [
    "(x_train,y_train),(x_test,y_test)=mnist.load_data()\n",
    "x_train=x_train/255\n",
    "x_test=x_test/255"
   ]
  },
  {
   "cell_type": "code",
   "execution_count": 4,
   "metadata": {
    "executionInfo": {
     "elapsed": 517,
     "status": "ok",
     "timestamp": 1665642133832,
     "user": {
      "displayName": "Mugdha Rane",
      "userId": "14804633121697625023"
     },
     "user_tz": -330
    },
    "id": "I6Kc4nEO3uSx"
   },
   "outputs": [],
   "source": [
    "import keras\n",
    "model=keras.Sequential()\n",
    "model.add(keras.layers.Flatten(input_shape=(28,28)))\n",
    "model.add(keras.layers.Dense(128,activation='relu'))\n",
    "model.add(keras.layers.Dense(10,activation='softmax'))"
   ]
  },
  {
   "cell_type": "code",
   "execution_count": 5,
   "metadata": {
    "executionInfo": {
     "elapsed": 1240,
     "status": "ok",
     "timestamp": 1665642194050,
     "user": {
      "displayName": "Mugdha Rane",
      "userId": "14804633121697625023"
     },
     "user_tz": -330
    },
    "id": "lT2cAbVc5onT"
   },
   "outputs": [],
   "source": [
    "model.compile(optimizer='sgd', loss='sparse_categorical_crossentropy', metrics=[\"Accuracy\"])"
   ]
  },
  {
   "cell_type": "code",
   "execution_count": 6,
   "metadata": {
    "colab": {
     "base_uri": "https://localhost:8080/"
    },
    "executionInfo": {
     "elapsed": 42787,
     "status": "ok",
     "timestamp": 1665642242355,
     "user": {
      "displayName": "Mugdha Rane",
      "userId": "14804633121697625023"
     },
     "user_tz": -330
    },
    "id": "IbrXrhPq6PX7",
    "outputId": "3eb86002-b931-47fa-d752-cacd72c92752"
   },
   "outputs": [
    {
     "name": "stdout",
     "output_type": "stream",
     "text": [
      "Epoch 1/5\n",
      "1875/1875 [==============================] - 6s 3ms/step - loss: 0.6525 - Accuracy: 0.8362 - val_loss: 0.3613 - val_Accuracy: 0.8998\n",
      "Epoch 2/5\n",
      "1875/1875 [==============================] - 7s 4ms/step - loss: 0.3421 - Accuracy: 0.9044 - val_loss: 0.3001 - val_Accuracy: 0.9152\n",
      "Epoch 3/5\n",
      "1875/1875 [==============================] - 5s 3ms/step - loss: 0.2940 - Accuracy: 0.9173 - val_loss: 0.2653 - val_Accuracy: 0.9257\n",
      "Epoch 4/5\n",
      "1875/1875 [==============================] - 5s 3ms/step - loss: 0.2638 - Accuracy: 0.9257 - val_loss: 0.2430 - val_Accuracy: 0.9310\n",
      "Epoch 5/5\n",
      "1875/1875 [==============================] - 5s 3ms/step - loss: 0.2400 - Accuracy: 0.9329 - val_loss: 0.2236 - val_Accuracy: 0.9380\n"
     ]
    }
   ],
   "source": [
    "H=model.fit(x_train,y_train,validation_data=(x_test,y_test),epochs=5)"
   ]
  },
  {
   "cell_type": "code",
   "execution_count": 7,
   "metadata": {
    "colab": {
     "base_uri": "https://localhost:8080/"
    },
    "executionInfo": {
     "elapsed": 1459,
     "status": "ok",
     "timestamp": 1665642343607,
     "user": {
      "displayName": "Mugdha Rane",
      "userId": "14804633121697625023"
     },
     "user_tz": -330
    },
    "id": "bsl9rmPB6oJi",
    "outputId": "d9d706d6-9975-45ff-8896-fe7ed3f7f712"
   },
   "outputs": [
    {
     "name": "stdout",
     "output_type": "stream",
     "text": [
      "313/313 [==============================] - 1s 2ms/step - loss: 0.2236 - Accuracy: 0.9380\n"
     ]
    }
   ],
   "source": [
    "test_loss,test_acc=model.evaluate(x_test,y_test)"
   ]
  },
  {
   "cell_type": "code",
   "execution_count": 8,
   "metadata": {
    "colab": {
     "base_uri": "https://localhost:8080/"
    },
    "executionInfo": {
     "elapsed": 548,
     "status": "ok",
     "timestamp": 1665642371512,
     "user": {
      "displayName": "Mugdha Rane",
      "userId": "14804633121697625023"
     },
     "user_tz": -330
    },
    "id": "XaZzFWpA670f",
    "outputId": "12865059-b844-4eab-bd8f-54297c314cc9"
   },
   "outputs": [
    {
     "name": "stdout",
     "output_type": "stream",
     "text": [
      "Loss=0.224\n",
      "Accuracy=0.938\n"
     ]
    }
   ],
   "source": [
    "print(\"Loss=%.3f\"%test_loss)\n",
    "print(\"Accuracy=%.3f\"%test_acc)"
   ]
  },
  {
   "cell_type": "code",
   "execution_count": 11,
   "metadata": {
    "colab": {
     "base_uri": "https://localhost:8080/",
     "height": 265
    },
    "executionInfo": {
     "elapsed": 476,
     "status": "ok",
     "timestamp": 1665642437124,
     "user": {
      "displayName": "Mugdha Rane",
      "userId": "14804633121697625023"
     },
     "user_tz": -330
    },
    "id": "PiSO0RbY7c27",
    "outputId": "68120f85-dc06-41d1-eab1-15306235c9db"
   },
   "outputs": [
    {
     "data": {
      "image/png": "[encoded data removed]",
      "text/plain": [
       "<Figure size 432x288 with 1 Axes>"
      ]
     },
     "metadata": {
      "needs_background": "light"
     },
     "output_type": "display_data"
    }
   ],
   "source": [
    "n=random.randint(0,9999)\n",
    "plt.imshow(x_test[n])\n",
    "plt.show()"
   ]
  },
  {
   "cell_type": "code",
   "execution_count": 12,
   "metadata": {
    "colab": {
     "base_uri": "https://localhost:8080/"
    },
    "executionInfo": {
     "elapsed": 1310,
     "status": "ok",
     "timestamp": 1665642443064,
     "user": {
      "displayName": "Mugdha Rane",
      "userId": "14804633121697625023"
     },
     "user_tz": -330
    },
    "id": "ToQy5nip8A9P",
    "outputId": "5a599b2b-3625-4eee-aa88-75affb71fcb9"
   },
   "outputs": [
    {
     "name": "stdout",
     "output_type": "stream",
     "text": [
      "313/313 [==============================] - 1s 2ms/step\n",
      "The handwritten number in the image is 8\n"
     ]
    }
   ],
   "source": [
    "prediction=model.predict(x_test)\n",
    "print(\"The handwritten number in the image is %d\"%np.argmax(prediction[n]))"
   ]
  }
 ],
 "metadata": {
  "colab": {
   "authorship_tag": "ABX9TyOy5HAXhm/svJ3Y+9Z5VnvU",
   "provenance": []
  },
  "kernelspec": {
   "display_name": "Python 3 (ipykernel)",
   "language": "python",
   "name": "python3"
  },
  "language_info": {
   "codemirror_mode": {
    "name": "ipython",
    "version": 3
   },
   "file_extension": ".py",
   "mimetype": "text/x-python",
   "name": "python",
   "nbconvert_exporter": "python",
   "pygments_lexer": "ipython3",
   "version": "3.9.9"
  }
 },
 "nbformat": 4,
 "nbformat_minor": 1
}
